{
 "cells": [
  {
   "cell_type": "code",
   "execution_count": 20,
   "id": "afd8edfa-816f-4ced-ae8c-d104d62600ae",
   "metadata": {},
   "outputs": [
    {
     "name": "stdout",
     "output_type": "stream",
     "text": [
      "F-статистика: 3.0660027392925246\n",
      "F-критическое: 1.3\n",
      "P-значение: 4.757613525363524e-09\n",
      "Выборочная дисперсия выборки 1: 4.585362183355331\n",
      "Выборочная дисперсия выборки 2: 14.058733014815797\n"
     ]
    }
   ],
   "source": [
    "### Сравнение двух дисперсий нормальных генеральных совокупностей  ###\n",
    "\n",
    "import numpy as np\n",
    "import scipy.stats as stats\n",
    "import matplotlib.pyplot as plt\n",
    "\n",
    "from statsmodels.distributions.empirical_distribution import ECDF\n",
    "from scipy.stats import norm\n",
    "from scipy.stats import f\n",
    "\n",
    "loc1, scale1, size1 = 10, 2, 100\n",
    "norm_sample1 = norm.rvs(loc=loc1, scale=scale1, size=size1)\n",
    "\n",
    "loc2, scale2, size2 = 15, 4, 150\n",
    "norm_sample2 = norm.rvs(loc=loc2, scale=scale2, size=size2)\n",
    "\n",
    "norm_var1 = np.var(norm_sample1, ddof=1)\n",
    "norm_var2 = np.var(norm_sample2, ddof=1)\n",
    "\n",
    "\n",
    "# Расчёт наблюдаемой F-статистики\n",
    "F_statistic_norm = norm_var2 / norm_var1\n",
    "\n",
    "# Степени свободы\n",
    "k1 = size2 - 1 \n",
    "k2 = size1 - 1\n",
    "\n",
    "# Расчёт p-значения для F-теста\n",
    "# По 2 правилу\n",
    "#p_value_norm = 1 - f.cdf(F_statistic_norm, k1, k2)\n",
    "\n",
    "# Вывод результатов\n",
    "print(\"F-статистика:\", F_statistic_norm)\n",
    "print(\"F-критическое:\", 1.3) # Примерное значение из таблицы \"Критические точки распределения F Фишера-Снедекора\"\n",
    "#print(\"P-значение:\", p_value_norm)\n",
    "print(\"Выборочная дисперсия выборки 1:\", norm_var1)\n",
    "print(\"Выборочная дисперсия выборки 2:\", norm_var2) ## Отвергаем"
   ]
  },
  {
   "cell_type": "code",
   "execution_count": 15,
   "id": "2193dbf9-9844-412a-a420-96ecb54e2a8d",
   "metadata": {},
   "outputs": [
    {
     "name": "stdout",
     "output_type": "stream",
     "text": [
      "Среднее 1 выборки: 49.87531925471574\n",
      "Среднее 2 выборки: 52.407756821205176\n",
      "Z-набл:  -3.6177679521277644\n",
      "Z-кр, правило 1:  1.96\n",
      "Z-кр, правило 2:  1.65\n"
     ]
    }
   ],
   "source": [
    "### Сравнение двух средних генеральных совокупностей, дисперсии которых известны (большие выборки) ###\n",
    "\n",
    "import numpy as np\n",
    "import scipy.stats as stats\n",
    "import matplotlib.pyplot as plt\n",
    "\n",
    "\n",
    "from statsmodels.distributions.empirical_distribution import ECDF\n",
    "from scipy.stats import f\n",
    "\n",
    "from scipy.stats import norm, zscore\n",
    "\n",
    "# Генерируем 2 выборки и находим их мат. ожидание\n",
    "\n",
    "mu1, sigma1, n1 = 50, 5, 100\n",
    "sample1 = norm.rvs(loc=mu1, scale=sigma1, size=n1)\n",
    "\n",
    "mu2, sigma2, n2 = 53, 6, 150\n",
    "sample2 = norm.rvs(loc=mu2, scale=sigma2, size=n2)\n",
    "\n",
    "mean1 = np.mean(sample1)\n",
    "mean2 = np.mean(sample2)\n",
    "\n",
    "# Вычисляем наблюдаемое значение критерия z набл\n",
    "z_statistic = (mean1 - mean2) / np.sqrt(sigma1 ** 2 / n1 + sigma2 ** 2 / n2)\n",
    "\n",
    "rule1_z = 1.96 # крит\n",
    "rule2_z = 1.65 # крит\n",
    "\n",
    "print(\"Среднее 1 выборки:\", mean1)\n",
    "print(\"Среднее 2 выборки:\", mean2)\n",
    "print(\"Z-набл: \", z_statistic)\n",
    "print(\"Z-кр, правило 1: \", rule1_z)\n",
    "print(\"Z-кр, правило 2: \", rule2_z)\n",
    "\n",
    "# Отвергаем 0 гипотезу тк по модулю |z набл| больше"
   ]
  },
  {
   "cell_type": "code",
   "execution_count": 19,
   "id": "e3a12e7b-ea9f-419a-87d5-19629cc46510",
   "metadata": {},
   "outputs": [
    {
     "name": "stdout",
     "output_type": "stream",
     "text": [
      "[20.402953995692346, 16.42551172169158, 23.685350144702376, 22.222378776119655, 25.34302863935714]\n",
      "3.434365689269816   0.4879281000541241\n"
     ]
    }
   ],
   "source": [
    "### Сравнение нескольких дисперсий нормальных генеральных совокупностей по выборкам различного объема. Критерий Бартлетта ##\n",
    "\n",
    "import numpy as np\n",
    "import scipy.stats as stats\n",
    "import matplotlib.pyplot as plt\n",
    "\n",
    "\n",
    "from statsmodels.distributions.empirical_distribution import ECDF\n",
    "from scipy.stats import f\n",
    "\n",
    "from scipy.stats import norm, zscore, bartlett\n",
    "\n",
    "# Заданные параметры\n",
    "means = [10, 20, 30, 40, 50]  # разные средние значения для каждой выборки\n",
    "sigma = 5  # одинаковое стандартное отклонение\n",
    "sizes = [50, 60, 70, 80, 90]  # объемы выборок\n",
    "\n",
    "# Генерация пяти выборок\n",
    "\n",
    "samples = []\n",
    "for i in range(0, 5):\n",
    "    samples.append(norm.rvs(loc=means[i], scale=sigma, size=sizes[i]))\n",
    "\n",
    "vars = []\n",
    "for sample in samples:\n",
    "    vars.append(np.var(sample))\n",
    "\n",
    "print(vars)\n",
    "\n",
    "'''\n",
    "Применение критерия Бартлетта для проверки равенства дисперсий между выборками.\n",
    "Функция bartlett(*samples) принимает несколько выборок как аргументы, \n",
    "представленные в виде *samples, и возвращает значение статистики \n",
    "Бартлетта и соответствующее p-значение.\n",
    "'''\n",
    "\n",
    "\n",
    "# Применение критерия Бартлетта для проверки равенства дисперсий\n",
    "bartlett_stat, p_value = bartlett(*samples)\n",
    "\n",
    "#l - число выборок\n",
    "chi_crit = 9.5\n",
    "\n",
    "print(bartlett_stat, ' ', p_value)\n",
    "\n",
    "# bartlett_stat < chi_crit => дисп примерно равны\n",
    "\n",
    "\n",
    "'''\n",
    "Значение статистики Бартлетта: около 3.43.\n",
    "Это число показывает меру различий между дисперсиями выборок. Чем больше это значение, тем больше различия между дисперсиями.\n",
    "\n",
    "\n",
    "Значение p-значения: около 0.49.\n",
    "Это вероятность получить такие же или более экстремальные результаты,\n",
    "если нулевая гипотеза (о равенстве дисперсий) верна. В данном случае,\n",
    "так как p-значение больше уровня значимости 0.05, нет оснований отклонять\n",
    "нулевую гипотезу, и мы можем сказать, что дисперсии между группами\n",
    "статистически не различаются.\n",
    "'''"
   ]
  },
  {
   "cell_type": "code",
   "execution_count": null,
   "id": "36363b53-f1b2-4496-8927-8d6e15c03bc1",
   "metadata": {},
   "outputs": [],
   "source": []
  }
 ],
 "metadata": {
  "kernelspec": {
   "display_name": "Python 3 (ipykernel)",
   "language": "python",
   "name": "python3"
  },
  "language_info": {
   "codemirror_mode": {
    "name": "ipython",
    "version": 3
   },
   "file_extension": ".py",
   "mimetype": "text/x-python",
   "name": "python",
   "nbconvert_exporter": "python",
   "pygments_lexer": "ipython3",
   "version": "3.11.7"
  }
 },
 "nbformat": 4,
 "nbformat_minor": 5
}
